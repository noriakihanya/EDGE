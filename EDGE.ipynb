{
  "nbformat": 4,
  "nbformat_minor": 0,
  "metadata": {
    "colab": {
      "provenance": [],
      "gpuType": "T4"
    },
    "kernelspec": {
      "name": "python3",
      "display_name": "Python 3"
    },
    "language_info": {
      "name": "python"
    },
    "accelerator": "GPU"
  },
  "cells": [
    {
      "cell_type": "code",
      "execution_count": 1,
      "metadata": {
        "colab": {
          "base_uri": "https://localhost:8080/"
        },
        "id": "r2Op7a7cgCNE",
        "outputId": "28eee843-1138-4be0-853e-969eeff1082b"
      },
      "outputs": [
        {
          "output_type": "stream",
          "name": "stdout",
          "text": [
            "Cloning into 'EDGE'...\n",
            "remote: Enumerating objects: 52, done.\u001b[K\n",
            "remote: Counting objects: 100% (52/52), done.\u001b[K\n",
            "remote: Compressing objects: 100% (46/46), done.\u001b[K\n",
            "remote: Total 52 (delta 4), reused 51 (delta 4), pack-reused 0\u001b[K\n",
            "Unpacking objects: 100% (52/52), 5.07 MiB | 7.87 MiB/s, done.\n"
          ]
        }
      ],
      "source": [
        "!git clone https://github.com/Stanford-TML/EDGE.git"
      ]
    },
    {
      "cell_type": "code",
      "source": [
        "!pip install torch torchvision torchaudio --index-url https://download.pytorch.org/whl/cu118\n",
        "!pip install git+https://github.com/facebookresearch/pytorch3d.git\n",
        "!pip install git+https://github.com/rodrigo-castellon/jukemirlib.git\n",
        "!pip install accelerate"
      ],
      "metadata": {
        "colab": {
          "base_uri": "https://localhost:8080/"
        },
        "id": "qAtIBxLZjBce",
        "outputId": "59e604bf-e9d0-491a-bdd0-092c53fa4657"
      },
      "execution_count": 6,
      "outputs": [
        {
          "output_type": "stream",
          "name": "stdout",
          "text": [
            "Looking in indexes: https://download.pytorch.org/whl/cu118, https://us-python.pkg.dev/colab-wheels/public/simple/\n",
            "Requirement already satisfied: torch in /usr/local/lib/python3.10/dist-packages (2.0.1+cu118)\n",
            "Requirement already satisfied: torchvision in /usr/local/lib/python3.10/dist-packages (0.15.2+cu118)\n",
            "Requirement already satisfied: torchaudio in /usr/local/lib/python3.10/dist-packages (2.0.2+cu118)\n",
            "Requirement already satisfied: filelock in /usr/local/lib/python3.10/dist-packages (from torch) (3.12.2)\n",
            "Requirement already satisfied: typing-extensions in /usr/local/lib/python3.10/dist-packages (from torch) (4.6.3)\n",
            "Requirement already satisfied: sympy in /usr/local/lib/python3.10/dist-packages (from torch) (1.11.1)\n",
            "Requirement already satisfied: networkx in /usr/local/lib/python3.10/dist-packages (from torch) (3.1)\n",
            "Requirement already satisfied: jinja2 in /usr/local/lib/python3.10/dist-packages (from torch) (3.1.2)\n",
            "Requirement already satisfied: triton==2.0.0 in /usr/local/lib/python3.10/dist-packages (from torch) (2.0.0)\n",
            "Requirement already satisfied: cmake in /usr/local/lib/python3.10/dist-packages (from triton==2.0.0->torch) (3.25.2)\n",
            "Requirement already satisfied: lit in /usr/local/lib/python3.10/dist-packages (from triton==2.0.0->torch) (16.0.6)\n",
            "Requirement already satisfied: numpy in /usr/local/lib/python3.10/dist-packages (from torchvision) (1.22.4)\n",
            "Requirement already satisfied: requests in /usr/local/lib/python3.10/dist-packages (from torchvision) (2.27.1)\n",
            "Requirement already satisfied: pillow!=8.3.*,>=5.3.0 in /usr/local/lib/python3.10/dist-packages (from torchvision) (8.4.0)\n",
            "Requirement already satisfied: MarkupSafe>=2.0 in /usr/local/lib/python3.10/dist-packages (from jinja2->torch) (2.1.3)\n",
            "Requirement already satisfied: urllib3<1.27,>=1.21.1 in /usr/local/lib/python3.10/dist-packages (from requests->torchvision) (1.26.16)\n",
            "Requirement already satisfied: certifi>=2017.4.17 in /usr/local/lib/python3.10/dist-packages (from requests->torchvision) (2023.5.7)\n",
            "Requirement already satisfied: charset-normalizer~=2.0.0 in /usr/local/lib/python3.10/dist-packages (from requests->torchvision) (2.0.12)\n",
            "Requirement already satisfied: idna<4,>=2.5 in /usr/local/lib/python3.10/dist-packages (from requests->torchvision) (3.4)\n",
            "Requirement already satisfied: mpmath>=0.19 in /usr/local/lib/python3.10/dist-packages (from sympy->torch) (1.3.0)\n",
            "Looking in indexes: https://pypi.org/simple, https://us-python.pkg.dev/colab-wheels/public/simple/\n",
            "Collecting git+https://github.com/facebookresearch/pytorch3d.git\n",
            "  Cloning https://github.com/facebookresearch/pytorch3d.git to /tmp/pip-req-build-l4tx8lgy\n",
            "  Running command git clone --filter=blob:none --quiet https://github.com/facebookresearch/pytorch3d.git /tmp/pip-req-build-l4tx8lgy\n",
            "  Resolved https://github.com/facebookresearch/pytorch3d.git to commit f68371d3988cab39e1730281f97e91b62887b2a6\n",
            "  Preparing metadata (setup.py) ... \u001b[?25l\u001b[?25hdone\n",
            "Collecting fvcore (from pytorch3d==0.7.4)\n",
            "  Downloading fvcore-0.1.5.post20221221.tar.gz (50 kB)\n",
            "\u001b[2K     \u001b[90m━━━━━━━━━━━━━━━━━━━━━━━━━━━━━━━━━━━━━━━━\u001b[0m \u001b[32m50.2/50.2 kB\u001b[0m \u001b[31m5.9 MB/s\u001b[0m eta \u001b[36m0:00:00\u001b[0m\n",
            "\u001b[?25h  Preparing metadata (setup.py) ... \u001b[?25l\u001b[?25hdone\n",
            "Collecting iopath (from pytorch3d==0.7.4)\n",
            "  Downloading iopath-0.1.10.tar.gz (42 kB)\n",
            "\u001b[2K     \u001b[90m━━━━━━━━━━━━━━━━━━━━━━━━━━━━━━━━━━━━━━━━\u001b[0m \u001b[32m42.2/42.2 kB\u001b[0m \u001b[31m5.8 MB/s\u001b[0m eta \u001b[36m0:00:00\u001b[0m\n",
            "\u001b[?25h  Preparing metadata (setup.py) ... \u001b[?25l\u001b[?25hdone\n",
            "Requirement already satisfied: numpy in /usr/local/lib/python3.10/dist-packages (from fvcore->pytorch3d==0.7.4) (1.22.4)\n",
            "Collecting yacs>=0.1.6 (from fvcore->pytorch3d==0.7.4)\n",
            "  Downloading yacs-0.1.8-py3-none-any.whl (14 kB)\n",
            "Requirement already satisfied: pyyaml>=5.1 in /usr/local/lib/python3.10/dist-packages (from fvcore->pytorch3d==0.7.4) (6.0)\n",
            "Requirement already satisfied: tqdm in /usr/local/lib/python3.10/dist-packages (from fvcore->pytorch3d==0.7.4) (4.65.0)\n",
            "Requirement already satisfied: termcolor>=1.1 in /usr/local/lib/python3.10/dist-packages (from fvcore->pytorch3d==0.7.4) (2.3.0)\n",
            "Requirement already satisfied: Pillow in /usr/local/lib/python3.10/dist-packages (from fvcore->pytorch3d==0.7.4) (8.4.0)\n",
            "Requirement already satisfied: tabulate in /usr/local/lib/python3.10/dist-packages (from fvcore->pytorch3d==0.7.4) (0.8.10)\n",
            "Requirement already satisfied: typing_extensions in /usr/local/lib/python3.10/dist-packages (from iopath->pytorch3d==0.7.4) (4.6.3)\n",
            "Collecting portalocker (from iopath->pytorch3d==0.7.4)\n",
            "  Downloading portalocker-2.7.0-py2.py3-none-any.whl (15 kB)\n",
            "Building wheels for collected packages: pytorch3d, fvcore, iopath\n",
            "  Building wheel for pytorch3d (setup.py) ... \u001b[?25l\u001b[?25hcanceled\n",
            "\u001b[31mERROR: Operation cancelled by user\u001b[0m\u001b[31m\n",
            "\u001b[0mTraceback (most recent call last):\n",
            "  File \"/usr/local/bin/pip3\", line 8, in <module>\n",
            "    sys.exit(main())\n",
            "  File \"/usr/local/lib/python3.10/dist-packages/pip/_internal/cli/main.py\", line 79, in main\n",
            "    return command.main(cmd_args)\n",
            "  File \"/usr/local/lib/python3.10/dist-packages/pip/_internal/cli/base_command.py\", line 100, in main\n",
            "    with self.main_context():\n",
            "  File \"/usr/lib/python3.10/contextlib.py\", line 142, in __exit__\n",
            "    next(self.gen)\n",
            "  File \"/usr/local/lib/python3.10/dist-packages/pip/_internal/cli/command_context.py\", line 19, in main_context\n",
            "    with self._main_context:\n",
            "  File \"/usr/lib/python3.10/contextlib.py\", line 576, in __exit__\n",
            "    raise exc_details[1]\n",
            "  File \"/usr/lib/python3.10/contextlib.py\", line 153, in __exit__\n",
            "    self.gen.throw(typ, value, traceback)\n",
            "  File \"/usr/local/lib/python3.10/dist-packages/pip/_internal/utils/temp_dir.py\", line 70, in tempdir_registry\n",
            "    yield _tempdir_registry\n",
            "  File \"/usr/lib/python3.10/contextlib.py\", line 561, in __exit__\n",
            "    if cb(*exc_details):\n",
            "  File \"/usr/local/lib/python3.10/dist-packages/pip/_vendor/requests/sessions.py\", line 455, in __exit__\n",
            "    self.close()\n",
            "  File \"/usr/local/lib/python3.10/dist-packages/pip/_vendor/requests/sessions.py\", line 797, in close\n",
            "    v.close()\n",
            "  File \"/usr/local/lib/python3.10/dist-packages/pip/_vendor/cachecontrol/adapter.py\", line 137, in close\n",
            "    super(CacheControlAdapter, self).close()\n",
            "  File \"/usr/local/lib/python3.10/dist-packages/pip/_vendor/requests/adapters.py\", line 368, in close\n",
            "    self.poolmanager.clear()\n",
            "  File \"/usr/local/lib/python3.10/dist-packages/pip/_vendor/urllib3/poolmanager.py\", line 223, in clear\n",
            "    self.pools.clear()\n",
            "  File \"/usr/local/lib/python3.10/dist-packages/pip/_vendor/urllib3/_collections.py\", line 100, in clear\n",
            "    self.dispose_func(value)\n",
            "  File \"/usr/local/lib/python3.10/dist-packages/pip/_vendor/urllib3/poolmanager.py\", line 174, in <lambda>\n",
            "    self.pools = RecentlyUsedContainer(num_pools, dispose_func=lambda p: p.close())\n",
            "  File \"/usr/local/lib/python3.10/dist-packages/pip/_vendor/urllib3/connectionpool.py\", line 495, in close\n",
            "    if conn:\n",
            "KeyboardInterrupt\n",
            "^C\n",
            "Looking in indexes: https://pypi.org/simple, https://us-python.pkg.dev/colab-wheels/public/simple/\n",
            "Collecting git+https://github.com/rodrigo-castellon/jukemirlib.git\n",
            "  Cloning https://github.com/rodrigo-castellon/jukemirlib.git to /tmp/pip-req-build-3d8zu74h\n",
            "  Running command git clone --filter=blob:none --quiet https://github.com/rodrigo-castellon/jukemirlib.git /tmp/pip-req-build-3d8zu74h\n",
            "  Resolved https://github.com/rodrigo-castellon/jukemirlib.git to commit 98223a631f7327b4b45ed60f900e6a3a71130b25\n",
            "  Preparing metadata (setup.py) ... \u001b[?25l\u001b[?25hdone\n",
            "Collecting jukebox@ git+https://github.com/rodrigo-castellon/jukebox.git (from jukemirlib==0.0.0)\n",
            "  Cloning https://github.com/rodrigo-castellon/jukebox.git to /tmp/pip-install-jlmh5kpr/jukebox_678f15ef0eae40c68b6ab184c279584f\n",
            "  Running command git clone --filter=blob:none --quiet https://github.com/rodrigo-castellon/jukebox.git /tmp/pip-install-jlmh5kpr/jukebox_678f15ef0eae40c68b6ab184c279584f\n",
            "  Resolved https://github.com/rodrigo-castellon/jukebox.git to commit 6b4486164e150286d9d6944797a14b19f31912f0\n",
            "  Preparing metadata (setup.py) ... \u001b[?25l\u001b[?25hdone\n",
            "Collecting wget (from jukemirlib==0.0.0)\n",
            "  Downloading wget-3.2.zip (10 kB)\n",
            "  Preparing metadata (setup.py) ... \u001b[?25l\u001b[?25hdone\n",
            "Collecting accelerate (from jukemirlib==0.0.0)\n",
            "  Downloading accelerate-0.20.3-py3-none-any.whl (227 kB)\n",
            "\u001b[2K     \u001b[90m━━━━━━━━━━━━━━━━━━━━━━━━━━━━━━━━━━━━━━\u001b[0m \u001b[32m227.6/227.6 kB\u001b[0m \u001b[31m17.8 MB/s\u001b[0m eta \u001b[36m0:00:00\u001b[0m\n",
            "\u001b[?25hRequirement already satisfied: numpy>=1.17 in /usr/local/lib/python3.10/dist-packages (from accelerate->jukemirlib==0.0.0) (1.22.4)\n",
            "Requirement already satisfied: packaging>=20.0 in /usr/local/lib/python3.10/dist-packages (from accelerate->jukemirlib==0.0.0) (23.1)\n",
            "Requirement already satisfied: psutil in /usr/local/lib/python3.10/dist-packages (from accelerate->jukemirlib==0.0.0) (5.9.5)\n",
            "Requirement already satisfied: pyyaml in /usr/local/lib/python3.10/dist-packages (from accelerate->jukemirlib==0.0.0) (6.0)\n",
            "Requirement already satisfied: torch>=1.6.0 in /usr/local/lib/python3.10/dist-packages (from accelerate->jukemirlib==0.0.0) (2.0.1+cu118)\n",
            "Collecting fire==0.1.3 (from jukebox@ git+https://github.com/rodrigo-castellon/jukebox.git->jukemirlib==0.0.0)\n",
            "  Downloading fire-0.1.3.tar.gz (33 kB)\n",
            "  Preparing metadata (setup.py) ... \u001b[?25l\u001b[?25hdone\n",
            "Collecting tqdm==4.45.0 (from jukebox@ git+https://github.com/rodrigo-castellon/jukebox.git->jukemirlib==0.0.0)\n",
            "  Downloading tqdm-4.45.0-py2.py3-none-any.whl (60 kB)\n",
            "\u001b[2K     \u001b[90m━━━━━━━━━━━━━━━━━━━━━━━━━━━━━━━━━━━━━━━━\u001b[0m \u001b[32m60.9/60.9 kB\u001b[0m \u001b[31m9.0 MB/s\u001b[0m eta \u001b[36m0:00:00\u001b[0m\n",
            "\u001b[?25hCollecting soundfile==0.10.3.post1 (from jukebox@ git+https://github.com/rodrigo-castellon/jukebox.git->jukemirlib==0.0.0)\n",
            "  Downloading SoundFile-0.10.3.post1-py2.py3-none-any.whl (21 kB)\n",
            "Collecting unidecode==1.1.1 (from jukebox@ git+https://github.com/rodrigo-castellon/jukebox.git->jukemirlib==0.0.0)\n",
            "  Downloading Unidecode-1.1.1-py2.py3-none-any.whl (238 kB)\n",
            "\u001b[2K     \u001b[90m━━━━━━━━━━━━━━━━━━━━━━━━━━━━━━━━━━━━━━\u001b[0m \u001b[32m238.3/238.3 kB\u001b[0m \u001b[31m33.3 MB/s\u001b[0m eta \u001b[36m0:00:00\u001b[0m\n",
            "\u001b[?25hRequirement already satisfied: numba in /usr/local/lib/python3.10/dist-packages (from jukebox@ git+https://github.com/rodrigo-castellon/jukebox.git->jukemirlib==0.0.0) (0.56.4)\n",
            "Requirement already satisfied: librosa in /usr/local/lib/python3.10/dist-packages (from jukebox@ git+https://github.com/rodrigo-castellon/jukebox.git->jukemirlib==0.0.0) (0.10.0.post2)\n",
            "Requirement already satisfied: six in /usr/local/lib/python3.10/dist-packages (from fire==0.1.3->jukebox@ git+https://github.com/rodrigo-castellon/jukebox.git->jukemirlib==0.0.0) (1.16.0)\n",
            "Requirement already satisfied: cffi>=1.0 in /usr/local/lib/python3.10/dist-packages (from soundfile==0.10.3.post1->jukebox@ git+https://github.com/rodrigo-castellon/jukebox.git->jukemirlib==0.0.0) (1.15.1)\n",
            "Requirement already satisfied: filelock in /usr/local/lib/python3.10/dist-packages (from torch>=1.6.0->accelerate->jukemirlib==0.0.0) (3.12.2)\n",
            "Requirement already satisfied: typing-extensions in /usr/local/lib/python3.10/dist-packages (from torch>=1.6.0->accelerate->jukemirlib==0.0.0) (4.6.3)\n",
            "Requirement already satisfied: sympy in /usr/local/lib/python3.10/dist-packages (from torch>=1.6.0->accelerate->jukemirlib==0.0.0) (1.11.1)\n",
            "Requirement already satisfied: networkx in /usr/local/lib/python3.10/dist-packages (from torch>=1.6.0->accelerate->jukemirlib==0.0.0) (3.1)\n",
            "Requirement already satisfied: jinja2 in /usr/local/lib/python3.10/dist-packages (from torch>=1.6.0->accelerate->jukemirlib==0.0.0) (3.1.2)\n",
            "Requirement already satisfied: triton==2.0.0 in /usr/local/lib/python3.10/dist-packages (from torch>=1.6.0->accelerate->jukemirlib==0.0.0) (2.0.0)\n",
            "Requirement already satisfied: cmake in /usr/local/lib/python3.10/dist-packages (from triton==2.0.0->torch>=1.6.0->accelerate->jukemirlib==0.0.0) (3.25.2)\n",
            "Requirement already satisfied: lit in /usr/local/lib/python3.10/dist-packages (from triton==2.0.0->torch>=1.6.0->accelerate->jukemirlib==0.0.0) (16.0.6)\n",
            "Requirement already satisfied: audioread>=2.1.9 in /usr/local/lib/python3.10/dist-packages (from librosa->jukebox@ git+https://github.com/rodrigo-castellon/jukebox.git->jukemirlib==0.0.0) (3.0.0)\n",
            "Requirement already satisfied: scipy>=1.2.0 in /usr/local/lib/python3.10/dist-packages (from librosa->jukebox@ git+https://github.com/rodrigo-castellon/jukebox.git->jukemirlib==0.0.0) (1.10.1)\n",
            "Requirement already satisfied: scikit-learn>=0.20.0 in /usr/local/lib/python3.10/dist-packages (from librosa->jukebox@ git+https://github.com/rodrigo-castellon/jukebox.git->jukemirlib==0.0.0) (1.2.2)\n",
            "Requirement already satisfied: joblib>=0.14 in /usr/local/lib/python3.10/dist-packages (from librosa->jukebox@ git+https://github.com/rodrigo-castellon/jukebox.git->jukemirlib==0.0.0) (1.2.0)\n",
            "Requirement already satisfied: decorator>=4.3.0 in /usr/local/lib/python3.10/dist-packages (from librosa->jukebox@ git+https://github.com/rodrigo-castellon/jukebox.git->jukemirlib==0.0.0) (4.4.2)\n",
            "INFO: pip is looking at multiple versions of librosa to determine which version is compatible with other requirements. This could take a while.\n",
            "Collecting librosa (from jukebox@ git+https://github.com/rodrigo-castellon/jukebox.git->jukemirlib==0.0.0)\n",
            "  Downloading librosa-0.10.0.post1-py3-none-any.whl (252 kB)\n",
            "\u001b[2K     \u001b[90m━━━━━━━━━━━━━━━━━━━━━━━━━━━━━━━━━━━━━━\u001b[0m \u001b[32m253.0/253.0 kB\u001b[0m \u001b[31m33.8 MB/s\u001b[0m eta \u001b[36m0:00:00\u001b[0m\n",
            "\u001b[?25h  Downloading librosa-0.10.0-py3-none-any.whl (252 kB)\n",
            "\u001b[2K     \u001b[90m━━━━━━━━━━━━━━━━━━━━━━━━━━━━━━━━━━━━━━\u001b[0m \u001b[32m252.9/252.9 kB\u001b[0m \u001b[31m36.3 MB/s\u001b[0m eta \u001b[36m0:00:00\u001b[0m\n",
            "\u001b[?25h  Downloading librosa-0.9.2-py3-none-any.whl (214 kB)\n",
            "\u001b[2K     \u001b[90m━━━━━━━━━━━━━━━━━━━━━━━━━━━━━━━━━━━━━━\u001b[0m \u001b[32m214.3/214.3 kB\u001b[0m \u001b[31m32.9 MB/s\u001b[0m eta \u001b[36m0:00:00\u001b[0m\n",
            "\u001b[?25hCollecting resampy>=0.2.2 (from librosa->jukebox@ git+https://github.com/rodrigo-castellon/jukebox.git->jukemirlib==0.0.0)\n",
            "  Downloading resampy-0.4.2-py3-none-any.whl (3.1 MB)\n",
            "\u001b[2K     \u001b[90m━━━━━━━━━━━━━━━━━━━━━━━━━━━━━━━━━━━━━━━━\u001b[0m \u001b[32m3.1/3.1 MB\u001b[0m \u001b[31m104.1 MB/s\u001b[0m eta \u001b[36m0:00:00\u001b[0m\n",
            "\u001b[?25hRequirement already satisfied: pooch>=1.0 in /usr/local/lib/python3.10/dist-packages (from librosa->jukebox@ git+https://github.com/rodrigo-castellon/jukebox.git->jukemirlib==0.0.0) (1.6.0)\n",
            "Requirement already satisfied: llvmlite<0.40,>=0.39.0dev0 in /usr/local/lib/python3.10/dist-packages (from numba->jukebox@ git+https://github.com/rodrigo-castellon/jukebox.git->jukemirlib==0.0.0) (0.39.1)\n",
            "Requirement already satisfied: setuptools in /usr/local/lib/python3.10/dist-packages (from numba->jukebox@ git+https://github.com/rodrigo-castellon/jukebox.git->jukemirlib==0.0.0) (67.7.2)\n",
            "Requirement already satisfied: pycparser in /usr/local/lib/python3.10/dist-packages (from cffi>=1.0->soundfile==0.10.3.post1->jukebox@ git+https://github.com/rodrigo-castellon/jukebox.git->jukemirlib==0.0.0) (2.21)\n",
            "Requirement already satisfied: appdirs>=1.3.0 in /usr/local/lib/python3.10/dist-packages (from pooch>=1.0->librosa->jukebox@ git+https://github.com/rodrigo-castellon/jukebox.git->jukemirlib==0.0.0) (1.4.4)\n",
            "Requirement already satisfied: requests>=2.19.0 in /usr/local/lib/python3.10/dist-packages (from pooch>=1.0->librosa->jukebox@ git+https://github.com/rodrigo-castellon/jukebox.git->jukemirlib==0.0.0) (2.27.1)\n",
            "Requirement already satisfied: threadpoolctl>=2.0.0 in /usr/local/lib/python3.10/dist-packages (from scikit-learn>=0.20.0->librosa->jukebox@ git+https://github.com/rodrigo-castellon/jukebox.git->jukemirlib==0.0.0) (3.1.0)\n",
            "Requirement already satisfied: MarkupSafe>=2.0 in /usr/local/lib/python3.10/dist-packages (from jinja2->torch>=1.6.0->accelerate->jukemirlib==0.0.0) (2.1.3)\n",
            "Requirement already satisfied: mpmath>=0.19 in /usr/local/lib/python3.10/dist-packages (from sympy->torch>=1.6.0->accelerate->jukemirlib==0.0.0) (1.3.0)\n",
            "Requirement already satisfied: urllib3<1.27,>=1.21.1 in /usr/local/lib/python3.10/dist-packages (from requests>=2.19.0->pooch>=1.0->librosa->jukebox@ git+https://github.com/rodrigo-castellon/jukebox.git->jukemirlib==0.0.0) (1.26.16)\n",
            "Requirement already satisfied: certifi>=2017.4.17 in /usr/local/lib/python3.10/dist-packages (from requests>=2.19.0->pooch>=1.0->librosa->jukebox@ git+https://github.com/rodrigo-castellon/jukebox.git->jukemirlib==0.0.0) (2023.5.7)\n",
            "Requirement already satisfied: charset-normalizer~=2.0.0 in /usr/local/lib/python3.10/dist-packages (from requests>=2.19.0->pooch>=1.0->librosa->jukebox@ git+https://github.com/rodrigo-castellon/jukebox.git->jukemirlib==0.0.0) (2.0.12)\n",
            "Requirement already satisfied: idna<4,>=2.5 in /usr/local/lib/python3.10/dist-packages (from requests>=2.19.0->pooch>=1.0->librosa->jukebox@ git+https://github.com/rodrigo-castellon/jukebox.git->jukemirlib==0.0.0) (3.4)\n",
            "Building wheels for collected packages: jukemirlib, jukebox, fire, wget\n",
            "  Building wheel for jukemirlib (setup.py) ... \u001b[?25l\u001b[?25hdone\n",
            "  Created wheel for jukemirlib: filename=jukemirlib-0.0.0-py3-none-any.whl size=7680 sha256=9423447746c05682a962506ce237398257058be01e92d6c162dece18e804c4a2\n",
            "  Stored in directory: /tmp/pip-ephem-wheel-cache-unvpafxw/wheels/1d/a0/cd/3472d9e4b5c30191ff2d4ca9c3490e18be0818215a09b26987\n",
            "  Building wheel for jukebox (setup.py) ... \u001b[?25l\u001b[?25hdone\n",
            "  Created wheel for jukebox: filename=jukebox-1.0-py3-none-any.whl size=191633 sha256=4b1f20c270ae4ad653d30381e0e15cdd1b4ffd0687bb4a7e78931897574ffd80\n",
            "  Stored in directory: /tmp/pip-ephem-wheel-cache-unvpafxw/wheels/a4/c5/0e/c9481869401d9c73875970e2b1fedd1e160875d2e808d2e699\n",
            "  Building wheel for fire (setup.py) ... \u001b[?25l\u001b[?25hdone\n",
            "  Created wheel for fire: filename=fire-0.1.3-py2.py3-none-any.whl size=49702 sha256=9a06f930996d38e1d4fe8f6fe4c62d624da2c8be0254deafae278947b89963d6\n",
            "  Stored in directory: /root/.cache/pip/wheels/c5/3c/2a/a61cca1e41b0311cf0339fac7677bbd01570864da177e509af\n",
            "  Building wheel for wget (setup.py) ... \u001b[?25l\u001b[?25hdone\n",
            "  Created wheel for wget: filename=wget-3.2-py3-none-any.whl size=9657 sha256=23de9b46ab3685f9c2477ae1590d765bc76b1c9593ec4c1bcf2efb796e30ca9d\n",
            "  Stored in directory: /root/.cache/pip/wheels/8b/f1/7f/5c94f0a7a505ca1c81cd1d9208ae2064675d97582078e6c769\n",
            "Successfully built jukemirlib jukebox fire wget\n",
            "Installing collected packages: wget, unidecode, tqdm, fire, soundfile, resampy, librosa, jukebox, accelerate, jukemirlib\n",
            "  Attempting uninstall: tqdm\n",
            "    Found existing installation: tqdm 4.65.0\n",
            "    Uninstalling tqdm-4.65.0:\n",
            "      Successfully uninstalled tqdm-4.65.0\n",
            "  Attempting uninstall: soundfile\n",
            "    Found existing installation: soundfile 0.12.1\n",
            "    Uninstalling soundfile-0.12.1:\n",
            "      Successfully uninstalled soundfile-0.12.1\n",
            "  Attempting uninstall: librosa\n",
            "    Found existing installation: librosa 0.10.0.post2\n",
            "    Uninstalling librosa-0.10.0.post2:\n",
            "      Successfully uninstalled librosa-0.10.0.post2\n",
            "\u001b[31mERROR: pip's dependency resolver does not currently take into account all the packages that are installed. This behaviour is the source of the following dependency conflicts.\n",
            "panel 0.14.4 requires tqdm>=4.48.0, but you have tqdm 4.45.0 which is incompatible.\u001b[0m\u001b[31m\n",
            "\u001b[0mSuccessfully installed accelerate-0.20.3 fire-0.1.3 jukebox-1.0 jukemirlib-0.0.0 librosa-0.9.2 resampy-0.4.2 soundfile-0.10.3.post1 tqdm-4.45.0 unidecode-1.1.1 wget-3.2\n",
            "Looking in indexes: https://pypi.org/simple, https://us-python.pkg.dev/colab-wheels/public/simple/\n",
            "Requirement already satisfied: accelerate in /usr/local/lib/python3.10/dist-packages (0.20.3)\n",
            "Requirement already satisfied: numpy>=1.17 in /usr/local/lib/python3.10/dist-packages (from accelerate) (1.22.4)\n",
            "Requirement already satisfied: packaging>=20.0 in /usr/local/lib/python3.10/dist-packages (from accelerate) (23.1)\n",
            "Requirement already satisfied: psutil in /usr/local/lib/python3.10/dist-packages (from accelerate) (5.9.5)\n",
            "Requirement already satisfied: pyyaml in /usr/local/lib/python3.10/dist-packages (from accelerate) (6.0)\n",
            "Requirement already satisfied: torch>=1.6.0 in /usr/local/lib/python3.10/dist-packages (from accelerate) (2.0.1+cu118)\n",
            "Requirement already satisfied: filelock in /usr/local/lib/python3.10/dist-packages (from torch>=1.6.0->accelerate) (3.12.2)\n",
            "Requirement already satisfied: typing-extensions in /usr/local/lib/python3.10/dist-packages (from torch>=1.6.0->accelerate) (4.6.3)\n",
            "Requirement already satisfied: sympy in /usr/local/lib/python3.10/dist-packages (from torch>=1.6.0->accelerate) (1.11.1)\n",
            "Requirement already satisfied: networkx in /usr/local/lib/python3.10/dist-packages (from torch>=1.6.0->accelerate) (3.1)\n",
            "Requirement already satisfied: jinja2 in /usr/local/lib/python3.10/dist-packages (from torch>=1.6.0->accelerate) (3.1.2)\n",
            "Requirement already satisfied: triton==2.0.0 in /usr/local/lib/python3.10/dist-packages (from torch>=1.6.0->accelerate) (2.0.0)\n",
            "Requirement already satisfied: cmake in /usr/local/lib/python3.10/dist-packages (from triton==2.0.0->torch>=1.6.0->accelerate) (3.25.2)\n",
            "Requirement already satisfied: lit in /usr/local/lib/python3.10/dist-packages (from triton==2.0.0->torch>=1.6.0->accelerate) (16.0.6)\n",
            "Requirement already satisfied: MarkupSafe>=2.0 in /usr/local/lib/python3.10/dist-packages (from jinja2->torch>=1.6.0->accelerate) (2.1.3)\n",
            "Requirement already satisfied: mpmath>=0.19 in /usr/local/lib/python3.10/dist-packages (from sympy->torch>=1.6.0->accelerate) (1.3.0)\n"
          ]
        }
      ]
    },
    {
      "cell_type": "code",
      "source": [
        "%cd /content/EDGE/data\n",
        "#!bash download_dataset.sh\n",
        "!python create_dataset.py --extract-baseline --extract-jukebox"
      ],
      "metadata": {
        "colab": {
          "base_uri": "https://localhost:8080/"
        },
        "id": "u40cGj0yhy2q",
        "outputId": "a4099897-1455-4656-8ce4-bb260abc90d2"
      },
      "execution_count": 4,
      "outputs": [
        {
          "output_type": "stream",
          "name": "stdout",
          "text": [
            "/content/EDGE/data\n",
            "Traceback (most recent call last):\n",
            "  File \"/content/EDGE/data/create_dataset.py\", line 7, in <module>\n",
            "    from audio_extraction.jukebox_features import extract_folder as jukebox_extract\n",
            "  File \"/content/EDGE/data/audio_extraction/jukebox_features.py\", line 5, in <module>\n",
            "    import jukemirlib\n",
            "ModuleNotFoundError: No module named 'jukemirlib'\n"
          ]
        }
      ]
    },
    {
      "cell_type": "code",
      "source": [
        "# Output Directories\n",
        "output_folder = \"custom_music\"\n",
        "motion_folder = \"SMPL-to-FBX/motions\"\n",
        "fbx_folder = \"SMPL-to-FBX/fbx_out\""
      ],
      "metadata": {
        "id": "HY5esS8BgThW"
      },
      "execution_count": null,
      "outputs": []
    },
    {
      "cell_type": "code",
      "source": [
        "urllist = [\n",
        "    \"https://www.youtube.com/watch?v=2RicaUqd9Hg\",\n",
        "    \"https://www.youtube.com/watch?v=-CCgDvUM4TM\",\n",
        "    \"https://www.youtube.com/watch?v=9KhbM2mqhCQ\",\n",
        "    \"https://www.youtube.com/watch?v=s3bksUSPB4c\",\n",
        "    \"https://www.youtube.com/watch?v=ABfQuZqq8wg\",\n",
        "    \"https://www.youtube.com/watch?v=fNFzfwLM72c\",\n",
        "    \"https://www.youtube.com/watch?v=9i6bCWIdhBw\",\n",
        "    \"https://www.youtube.com/watch?v=yURRmWtbTbo\",\n",
        "    \"https://www.youtube.com/watch?v=god7hAPv8f0\",\n",
        "    \"https://www.youtube.com/watch?v=1sqE6P3XyiQ\",\n",
        "    \"https://www.youtube.com/watch?v=Zi_XLOBDo_Y\",\n",
        "    \"https://www.youtube.com/watch?v=UHXGc2oWyJ4\",\n",
        "    \"https://www.youtube.com/watch?v=h4bP9tj_0Zk\",\n",
        "    \"https://www.youtube.com/watch?v=qK5KhQG06xU\",\n",
        "    \"https://www.youtube.com/watch?v=FDMHZFJnk2s\",\n",
        "    \"https://www.youtube.com/watch?v=4NJH75q0Syk\",\n",
        "    \"https://www.youtube.com/watch?v=ggJI9dKBk48\",\n",
        "    \"https://www.youtube.com/watch?v=LPYw3jXjd74\",\n",
        "    \"https://www.youtube.com/watch?v=P-sGt5E2epc\",\n",
        "    \"https://www.youtube.com/watch?v=GxBSyx85Kp8\",\n",
        "    \"https://www.youtube.com/watch?v=OPf0YbXqDm0\",\n",
        "    \"https://www.youtube.com/watch?v=c18441Eh_WE\",\n",
        "    \"https://www.youtube.com/watch?v=uSD4vsh1zDA\",\n",
        "    \"https://www.youtube.com/watch?v=ViwtNLUqkMY\",\n",
        "    \"https://www.youtube.com/watch?v=q0KZuZF01FA\",\n",
        "    \"https://www.youtube.com/watch?v=Vds8ddYXYZY\",\n",
        "    \"https://www.youtube.com/watch?v=gm3-m2CFVWM\",\n",
        "    \"https://www.youtube.com/watch?v=BerNfXSuvJ0\",\n",
        "    \"https://www.youtube.com/watch?v=aFmTvY11vug\",\n",
        "    \"https://www.youtube.com/watch?v=LOZuxwVk7TU\",\n",
        "    \"https://www.youtube.com/watch?v=TUVcZfQe-Kw\",\n",
        "    \"https://www.youtube.com/watch?v=Ab6E2BsuLJ0\",\n",
        "    \"https://www.youtube.com/watch?v=g7X9X6TlrUo\",\n",
        "    \"https://www.youtube.com/watch?v=nsXwi67WgOo\",\n",
        "    \"https://www.youtube.com/watch?v=HCq1OcAEAm0\",\n",
        "]"
      ],
      "metadata": {
        "id": "PrKtyZFegsPc"
      },
      "execution_count": null,
      "outputs": []
    },
    {
      "cell_type": "code",
      "source": [
        "for url in urllist:\n",
        "    !youtube-dl --extract-audio --audio-format wav --audio-quality 0 --output \"{output_folder}/%(id)s.%(ext)s\" \"{url}\""
      ],
      "metadata": {
        "id": "IDGFrL9Hgzhy"
      },
      "execution_count": null,
      "outputs": []
    },
    {
      "cell_type": "code",
      "source": [
        "!python test.py --music_dir \"{output_folder}\" \\\n",
        "--save_motions --motion_save_dir \"{motion_folder}\""
      ],
      "metadata": {
        "id": "_MNHsC7dhCY1"
      },
      "execution_count": null,
      "outputs": []
    },
    {
      "cell_type": "code",
      "source": [
        "!python SMPL-to-FBX/Convert.py \\\n",
        "--input_dir \"{motion_folder}\" \\\n",
        "--output_dir \"{fbx_folder}\""
      ],
      "metadata": {
        "id": "TZWmpJV2hSYb"
      },
      "execution_count": null,
      "outputs": []
    }
  ]
}