{
  "nbformat": 4,
  "nbformat_minor": 0,
  "metadata": {
    "colab": {
      "provenance": [],
      "gpuType": "T4"
    },
    "kernelspec": {
      "name": "python3",
      "display_name": "Python 3"
    },
    "language_info": {
      "name": "python"
    },
    "accelerator": "GPU"
  },
  "cells": [
    {
      "cell_type": "code",
      "execution_count": null,
      "metadata": {
        "id": "r2Op7a7cgCNE"
      },
      "outputs": [],
      "source": [
        "!git clone https://github.com/Stanford-TML/EDGE.git"
      ]
    },
    {
      "cell_type": "code",
      "source": [
        "!pip install torch torchvision torchaudio --index-url https://download.pytorch.org/whl/cu118\n",
        "!pip install git+https://github.com/facebookresearch/pytorch3d.git\n",
        "!pip install git+https://github.com/rodrigo-castellon/jukemirlib.git\n",
        "!pip install accelerate"
      ],
      "metadata": {
        "id": "qAtIBxLZjBce"
      },
      "execution_count": null,
      "outputs": []
    },
    {
      "cell_type": "code",
      "source": [
        "!pip install yt-dlp wandb einops p_tqdm"
      ],
      "metadata": {
        "id": "WtvplBCuoLPI"
      },
      "execution_count": null,
      "outputs": []
    },
    {
      "cell_type": "code",
      "source": [
        "%cd /content/EDGE/data\n",
        "!bash download_dataset.sh\n",
        "!python create_dataset.py --extract-baseline --extract-jukebox"
      ],
      "metadata": {
        "id": "u40cGj0yhy2q"
      },
      "execution_count": null,
      "outputs": []
    },
    {
      "cell_type": "code",
      "source": [
        "# Output Directories\n",
        "output_folder = \"custom_music\"\n",
        "motion_folder = \"SMPL-to-FBX/motions\"\n",
        "fbx_folder = \"SMPL-to-FBX/fbx_out\""
      ],
      "metadata": {
        "id": "HY5esS8BgThW"
      },
      "execution_count": null,
      "outputs": []
    },
    {
      "cell_type": "code",
      "source": [
        "urllist = [\n",
        "    \"https://www.youtube.com/watch?v=2RicaUqd9Hg\",\n",
        "    \"https://www.youtube.com/watch?v=-CCgDvUM4TM\",\n",
        "    \"https://www.youtube.com/watch?v=9KhbM2mqhCQ\",\n",
        "    \"https://www.youtube.com/watch?v=s3bksUSPB4c\",\n",
        "    \"https://www.youtube.com/watch?v=ABfQuZqq8wg\",\n",
        "    \"https://www.youtube.com/watch?v=fNFzfwLM72c\",\n",
        "    \"https://www.youtube.com/watch?v=9i6bCWIdhBw\",\n",
        "    \"https://www.youtube.com/watch?v=yURRmWtbTbo\",\n",
        "    \"https://www.youtube.com/watch?v=god7hAPv8f0\",\n",
        "    \"https://www.youtube.com/watch?v=1sqE6P3XyiQ\",\n",
        "    \"https://www.youtube.com/watch?v=Zi_XLOBDo_Y\",\n",
        "    \"https://www.youtube.com/watch?v=UHXGc2oWyJ4\",\n",
        "    \"https://www.youtube.com/watch?v=h4bP9tj_0Zk\",\n",
        "    \"https://www.youtube.com/watch?v=qK5KhQG06xU\",\n",
        "    \"https://www.youtube.com/watch?v=FDMHZFJnk2s\",\n",
        "    \"https://www.youtube.com/watch?v=4NJH75q0Syk\",\n",
        "    \"https://www.youtube.com/watch?v=ggJI9dKBk48\",\n",
        "    \"https://www.youtube.com/watch?v=LPYw3jXjd74\",\n",
        "    \"https://www.youtube.com/watch?v=P-sGt5E2epc\",\n",
        "    \"https://www.youtube.com/watch?v=GxBSyx85Kp8\",\n",
        "    \"https://www.youtube.com/watch?v=OPf0YbXqDm0\",\n",
        "    \"https://www.youtube.com/watch?v=c18441Eh_WE\",\n",
        "    \"https://www.youtube.com/watch?v=uSD4vsh1zDA\",\n",
        "    \"https://www.youtube.com/watch?v=ViwtNLUqkMY\",\n",
        "    \"https://www.youtube.com/watch?v=q0KZuZF01FA\",\n",
        "    \"https://www.youtube.com/watch?v=Vds8ddYXYZY\",\n",
        "    \"https://www.youtube.com/watch?v=gm3-m2CFVWM\",\n",
        "    \"https://www.youtube.com/watch?v=BerNfXSuvJ0\",\n",
        "    \"https://www.youtube.com/watch?v=aFmTvY11vug\",\n",
        "    \"https://www.youtube.com/watch?v=LOZuxwVk7TU\",\n",
        "    \"https://www.youtube.com/watch?v=TUVcZfQe-Kw\",\n",
        "    \"https://www.youtube.com/watch?v=Ab6E2BsuLJ0\",\n",
        "    \"https://www.youtube.com/watch?v=g7X9X6TlrUo\",\n",
        "    \"https://www.youtube.com/watch?v=nsXwi67WgOo\",\n",
        "    \"https://www.youtube.com/watch?v=HCq1OcAEAm0\",\n",
        "]"
      ],
      "metadata": {
        "id": "PrKtyZFegsPc"
      },
      "execution_count": null,
      "outputs": []
    },
    {
      "cell_type": "code",
      "source": [
        "for url in urllist:\n",
        "    !youtube-dl --extract-audio --audio-format wav --audio-quality 0 --output \"{output_folder}/%(id)s.%(ext)s\" \"{url}\""
      ],
      "metadata": {
        "id": "IDGFrL9Hgzhy"
      },
      "execution_count": null,
      "outputs": []
    },
    {
      "cell_type": "code",
      "source": [
        "!python test.py --music_dir \"{output_folder}\" \\\n",
        "--save_motions --motion_save_dir \"{motion_folder}\""
      ],
      "metadata": {
        "id": "_MNHsC7dhCY1"
      },
      "execution_count": null,
      "outputs": []
    },
    {
      "cell_type": "code",
      "source": [
        "!python SMPL-to-FBX/Convert.py \\\n",
        "--input_dir \"{motion_folder}\" \\\n",
        "--output_dir \"{fbx_folder}\""
      ],
      "metadata": {
        "id": "TZWmpJV2hSYb"
      },
      "execution_count": null,
      "outputs": []
    }
  ]
}